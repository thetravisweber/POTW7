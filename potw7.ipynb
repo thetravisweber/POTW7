{
 "cells": [
  {
   "cell_type": "markdown",
   "id": "2076996a",
   "metadata": {},
   "source": [
    "# Problem of the week #7 due 11/10/21\n",
    "\n",
    "The integers from 1 to 2021 are written in order, in one long row, with no spaces between them.\n",
    "`1234567891011…20202021`\n",
    "What is the middle digit?\n",
    "\n",
    "## Short Answer\n",
    "\n",
    "The middle digit in the string of all integers from 1 to 2021 with no spaces between them is **9**.\n",
    "\n",
    "## Method\n",
    "\n",
    "I am going to be solving this problem with pure math, but I will be checking my answers with code.\n",
    "\n",
    "This paper is divided into 2 parts:\n",
    "\n",
    "    1. Calculating the number of digits, and then finding the index of the middle digit\n",
    "    2. Finding out what number is at the index of that middle digit\n",
    "    \n",
    "We solve part 1 by adding up the total number of digits contributed to the total by each 'type' of integer. We define a type of integer as having the same number of digits as all other integers of the same type. Thus there are 4 types of integers in this problem, integers with 1, 2, 3, and 4 digits.\n",
    "\n",
    "We solve part 2 by simplifying the problem, determining how to find any nth digit in the simplified version, and finally using this to find the answer to the problem.\n",
    "\n",
    "## Getting Started\n",
    "\n",
    "I am going to start by defining a python function that will return the combined string of numbers between any beginning and end number, inclusive, that we specify. I am defining this function up-front so that we can use it throughout the paper. It will return both the actual string of numbers, and the number of numbers in the string, in a dictionary data structure."
   ]
  },
  {
   "cell_type": "code",
   "execution_count": 808,
   "id": "16304eaf",
   "metadata": {},
   "outputs": [],
   "source": [
    "import math"
   ]
  },
  {
   "cell_type": "code",
   "execution_count": 809,
   "id": "a4feb751",
   "metadata": {},
   "outputs": [],
   "source": [
    "def number_string(beginning, end):\n",
    "    accumulator = \"\"\n",
    "    number_of_numbers = 0\n",
    "    for i in range(beginning, end+1):\n",
    "        accumulator+=str(i)\n",
    "        number_of_numbers+=1\n",
    "    return {\n",
    "        \"string\": accumulator,\n",
    "        \"number_of_numbers\": number_of_numbers\n",
    "    }"
   ]
  },
  {
   "cell_type": "markdown",
   "id": "6d88bd40",
   "metadata": {},
   "source": [
    "Let's go ahead and check this code by having it print the numbers 1 through 5 for us.\n",
    "\n",
    "For the string that it returns, we expect to see `12345`, and for the number of numbers that it returns, we expect the number 5."
   ]
  },
  {
   "cell_type": "code",
   "execution_count": 810,
   "id": "ca1840df",
   "metadata": {},
   "outputs": [
    {
     "data": {
      "text/plain": [
       "{'string': '12345', 'number_of_numbers': 5}"
      ]
     },
     "execution_count": 810,
     "metadata": {},
     "output_type": "execute_result"
    }
   ],
   "source": [
    "number_string(1,5)"
   ]
  },
  {
   "cell_type": "markdown",
   "id": "ee7deaa6",
   "metadata": {},
   "source": [
    "We can use the python `len()` function to get the length of the string. When we take the length of the string returned by our `number_string` function, it tells us the total number of digits. For 1 digit numbers only, this will be the same as the number of numbers, but once we get into higher digit numbers, this will be the key function. Lets see how we get the number of digits for our string of 1 through 5:"
   ]
  },
  {
   "cell_type": "code",
   "execution_count": 811,
   "id": "d203703f",
   "metadata": {},
   "outputs": [
    {
     "data": {
      "text/plain": [
       "5"
      ]
     },
     "execution_count": 811,
     "metadata": {},
     "output_type": "execute_result"
    }
   ],
   "source": [
    "len(number_string(1,5)['string'])"
   ]
  },
  {
   "cell_type": "markdown",
   "id": "591d775e",
   "metadata": {},
   "source": [
    "## How many digits are in our full number string?\n",
    "\n",
    "This is all integers 1 through 2021 \n",
    "\n",
    "We can divide the integers 1 through 2021 into 4 different categories based on their number of digits. We can refer to each category as a 'type' of integer. Each integer will have the same number of digits as all others of its same type.\n",
    "\n",
    "The number of digits in the full string of integers 1 through 2021, without spaces, will be the sum of the number of digits of the strings made up by each type of integer, because each integer 1 to 2021 belongs to 1 type and only one type. So in this will, each integer will still be counted once and only one. \n",
    "\n",
    "It makes sense to solve this problem in this way because all we have to do is figure out how many integers belong to each type, and then multiply that by the number of digits in each integer of that type, to calculate the total digits in the string of integers of that type, without spaces.\n",
    "\n",
    "### How Many Digits do the One Digit Numbers Make Up?\n",
    "\n",
    "Well, the only 1 digit integers are 1 through 9. The number of these numbers is not, however 9-1, because the string is inclusive. In order to get the actual number of numbers in the string, we have to either subtract 1 from the beginning number, or add 1 to the highest number. I will be using the former method throughout this paper.\n",
    "\n",
    "Using this formula, we get:"
   ]
  },
  {
   "cell_type": "code",
   "execution_count": 812,
   "id": "c0333d98",
   "metadata": {},
   "outputs": [
    {
     "data": {
      "text/plain": [
       "9"
      ]
     },
     "execution_count": 812,
     "metadata": {},
     "output_type": "execute_result"
    }
   ],
   "source": [
    "9-(1-1)"
   ]
  },
  {
   "cell_type": "markdown",
   "id": "6f2b4b57",
   "metadata": {},
   "source": [
    "For one digit numbers, the total number of digits will be equal to the number of numbers, because each number contributes exactly 1 digit.\n",
    "\n",
    "Lets now double check this with our python function we defined earlier"
   ]
  },
  {
   "cell_type": "code",
   "execution_count": 813,
   "id": "4d075ed7",
   "metadata": {},
   "outputs": [
    {
     "name": "stdout",
     "output_type": "stream",
     "text": [
      "Number String: 123456789\n",
      "Number of Numbers: 9\n",
      "Number of Digits: 9\n"
     ]
    }
   ],
   "source": [
    "one_digit_numbers = number_string(1,9)\n",
    "print(\"Number String:\", one_digit_numbers['string'])\n",
    "print(\"Number of Numbers:\", one_digit_numbers['number_of_numbers'])\n",
    "print(\"Number of Digits:\", len(one_digit_numbers['string']))"
   ]
  },
  {
   "cell_type": "markdown",
   "id": "9a8a1858",
   "metadata": {},
   "source": [
    "### How Many Digits do the Two Digit Numbers Make Up?\n",
    "\n",
    "All we have to do, is follow the same formula that we did for the one digit numbers above. That is, the last 2 digit number minus one less than the first 2 number."
   ]
  },
  {
   "cell_type": "code",
   "execution_count": 814,
   "id": "e9038a51",
   "metadata": {},
   "outputs": [
    {
     "data": {
      "text/plain": [
       "90"
      ]
     },
     "execution_count": 814,
     "metadata": {},
     "output_type": "execute_result"
    }
   ],
   "source": [
    "99-(10-1)"
   ]
  },
  {
   "cell_type": "markdown",
   "id": "cedb9f15",
   "metadata": {},
   "source": [
    "In order to get the number of digits of all of these 2 digit numbers combined, we just multiply the number of numbers by the number of digits in each, which is of course 2 "
   ]
  },
  {
   "cell_type": "code",
   "execution_count": 815,
   "id": "2354e2fb",
   "metadata": {},
   "outputs": [
    {
     "data": {
      "text/plain": [
       "180"
      ]
     },
     "execution_count": 815,
     "metadata": {},
     "output_type": "execute_result"
    }
   ],
   "source": [
    "2 * 90"
   ]
  },
  {
   "cell_type": "markdown",
   "id": "4a970ca9",
   "metadata": {},
   "source": [
    "Double checking this with our python function:"
   ]
  },
  {
   "cell_type": "code",
   "execution_count": 816,
   "id": "6c7d5a8d",
   "metadata": {},
   "outputs": [
    {
     "name": "stdout",
     "output_type": "stream",
     "text": [
      "Number String: 101112131415161718192021222324252627282930313233343536373839404142434445464748495051525354555657585960616263646566676869707172737475767778798081828384858687888990919293949596979899 \n",
      "\n",
      "Number of Numbers: 90\n",
      "Number of Digits: 180\n"
     ]
    }
   ],
   "source": [
    "two_digit_numbers = number_string(10,99)\n",
    "print(\"Number String:\", two_digit_numbers['string'], '\\n')\n",
    "print(\"Number of Numbers:\", two_digit_numbers['number_of_numbers'])\n",
    "print(\"Number of Digits:\", len(two_digit_numbers['string']))"
   ]
  },
  {
   "cell_type": "markdown",
   "id": "b091d882",
   "metadata": {},
   "source": [
    "We can see here that so far our math is matching our code output perfectly. We can reality check our code by looking at the number string, and seeing that it does indeed start with 10 and end with 99.\n",
    "\n",
    "### How Many Digits do the Three Digit Numbers Make Up?\n",
    "\n",
    "The first 3 digit number is 100, and the last is 999. Plugging this into the formulas discussed above, we can calculate:\n",
    "\n",
    "The number of numbers:"
   ]
  },
  {
   "cell_type": "code",
   "execution_count": 817,
   "id": "d6cdfab0",
   "metadata": {},
   "outputs": [
    {
     "data": {
      "text/plain": [
       "900"
      ]
     },
     "execution_count": 817,
     "metadata": {},
     "output_type": "execute_result"
    }
   ],
   "source": [
    "999 - (100-1)"
   ]
  },
  {
   "cell_type": "markdown",
   "id": "58d5d4f5",
   "metadata": {},
   "source": [
    "And thus the number of digits (each number contributes 3 digits):"
   ]
  },
  {
   "cell_type": "code",
   "execution_count": 818,
   "id": "3936b441",
   "metadata": {},
   "outputs": [
    {
     "data": {
      "text/plain": [
       "2700"
      ]
     },
     "execution_count": 818,
     "metadata": {},
     "output_type": "execute_result"
    }
   ],
   "source": [
    "900 * 3"
   ]
  },
  {
   "cell_type": "markdown",
   "id": "7b719365",
   "metadata": {},
   "source": [
    "Now to double check this with our python function. In this case, though, I am not going to print out the number string, because it takes up too much space and looks messy."
   ]
  },
  {
   "cell_type": "code",
   "execution_count": 819,
   "id": "338f619e",
   "metadata": {},
   "outputs": [
    {
     "name": "stdout",
     "output_type": "stream",
     "text": [
      "Number of Numbers: 900\n",
      "Number of Digits: 2700\n"
     ]
    }
   ],
   "source": [
    "three_digit_numbers = number_string(100,999)\n",
    "print(\"Number of Numbers:\", three_digit_numbers['number_of_numbers'])\n",
    "print(\"Number of Digits:\", len(three_digit_numbers['string']))"
   ]
  },
  {
   "cell_type": "markdown",
   "id": "32c4dd88",
   "metadata": {},
   "source": [
    "### How Many Digits do the Four Digit Numbers Make Up?\n",
    "\n",
    "The first 4 digit number is 1000, and the last is 2021.\n",
    "\n",
    "The number of numbers:"
   ]
  },
  {
   "cell_type": "code",
   "execution_count": 820,
   "id": "01f62d1a",
   "metadata": {},
   "outputs": [
    {
     "data": {
      "text/plain": [
       "1022"
      ]
     },
     "execution_count": 820,
     "metadata": {},
     "output_type": "execute_result"
    }
   ],
   "source": [
    "2021 - (1000-1)"
   ]
  },
  {
   "cell_type": "markdown",
   "id": "2eb7c83c",
   "metadata": {},
   "source": [
    "The number of digits (each number contributes 4 digits):"
   ]
  },
  {
   "cell_type": "code",
   "execution_count": 821,
   "id": "6869cbe4",
   "metadata": {},
   "outputs": [
    {
     "data": {
      "text/plain": [
       "4088"
      ]
     },
     "execution_count": 821,
     "metadata": {},
     "output_type": "execute_result"
    }
   ],
   "source": [
    "1022 * 4"
   ]
  },
  {
   "cell_type": "markdown",
   "id": "cbfea12e",
   "metadata": {},
   "source": [
    "Double checking this with our python function, and once again not printing the full number string:"
   ]
  },
  {
   "cell_type": "code",
   "execution_count": 822,
   "id": "88aae7ca",
   "metadata": {},
   "outputs": [
    {
     "name": "stdout",
     "output_type": "stream",
     "text": [
      "Number of Numbers: 1022\n",
      "Number of Digits: 4088\n"
     ]
    }
   ],
   "source": [
    "four_digit_numbers = number_string(1000,2021)\n",
    "print(\"Number of Numbers:\", four_digit_numbers['number_of_numbers'])\n",
    "print(\"Number of Digits:\", len(four_digit_numbers['string']))"
   ]
  },
  {
   "cell_type": "markdown",
   "id": "dbd501e9",
   "metadata": {},
   "source": [
    "### Combining all of our Digits"
   ]
  },
  {
   "cell_type": "code",
   "execution_count": 823,
   "id": "90b39f32",
   "metadata": {},
   "outputs": [
    {
     "data": {
      "text/plain": [
       "6977"
      ]
     },
     "execution_count": 823,
     "metadata": {},
     "output_type": "execute_result"
    }
   ],
   "source": [
    "9 + 180 + 2700 + 4088"
   ]
  },
  {
   "cell_type": "markdown",
   "id": "43bea579",
   "metadata": {},
   "source": [
    "We can also use all of the variables we have defined thus far in the following formula:"
   ]
  },
  {
   "cell_type": "code",
   "execution_count": 824,
   "id": "df412c6a",
   "metadata": {},
   "outputs": [
    {
     "data": {
      "text/plain": [
       "6977"
      ]
     },
     "execution_count": 824,
     "metadata": {},
     "output_type": "execute_result"
    }
   ],
   "source": [
    "one_digit_numbers['number_of_numbers'] * 1 + \\\n",
    "two_digit_numbers['number_of_numbers'] * 2 + \\\n",
    "three_digit_numbers['number_of_numbers'] * 3 + \\\n",
    "four_digit_numbers['number_of_numbers'] * 4"
   ]
  },
  {
   "cell_type": "markdown",
   "id": "575f31cc",
   "metadata": {},
   "source": [
    "Or we can just use our function to generate the full string from 1 to 2021, and check the length of that"
   ]
  },
  {
   "cell_type": "code",
   "execution_count": 825,
   "id": "09061cfe",
   "metadata": {},
   "outputs": [
    {
     "data": {
      "text/plain": [
       "6977"
      ]
     },
     "execution_count": 825,
     "metadata": {},
     "output_type": "execute_result"
    }
   ],
   "source": [
    "len(number_string(1,2021)['string'])"
   ]
  },
  {
   "cell_type": "markdown",
   "id": "34629c60",
   "metadata": {},
   "source": [
    "In all 3 cases, we find that the number of digits in the string from 1 to 2021 is **6977**"
   ]
  },
  {
   "cell_type": "markdown",
   "id": "e6191715",
   "metadata": {},
   "source": [
    "## Finding the Middle Digit\n",
    "\n",
    "The first thing that can be noticed about the number of digits is that it is an odd number.\n",
    "\n",
    "This helps us to find the middle number. Consider the string of integers 1 through 5 (`12345`), half of 5 is 2.5, but the middle integer is clearly 3, which is the third digit. So to find the middle digit, we divide the total by 2, and round up.\n",
    "\n",
    "We can use the `math.ceil` function in python to round up. Thus, the middle digit of our string of numbers from 1 to 2021 is:"
   ]
  },
  {
   "cell_type": "code",
   "execution_count": 826,
   "id": "1e3a1b6b",
   "metadata": {},
   "outputs": [
    {
     "data": {
      "text/plain": [
       "3489"
      ]
     },
     "execution_count": 826,
     "metadata": {},
     "output_type": "execute_result"
    }
   ],
   "source": [
    "math.ceil(6977 / 2)"
   ]
  },
  {
   "cell_type": "markdown",
   "id": "fba8d150",
   "metadata": {},
   "source": [
    "### What is the 3489th digit in our string?\n",
    "\n",
    "Unfortunately, unlike in our simple example of `12345` the nth digit is not guarunteed to be n once we get into higher numbers.\n",
    "\n",
    "To start on finding the 3489th digit, I am going to simplify our problem by removing all of the non-four digit numbers. How to ignore the 1, 2, and 3 digit numbers? All we have to do is subtract the total number of digits contributed by the 1, 2, and 3 digit numbers from 3489. This will tell us the number of digits into the string of only 4 digit numbers that we have to look.\n",
    "\n",
    "We know that we can do this because for any string $$a = a_0a_1a_2a_3...a_r$$ removing the first n elements will yield a new string b such that $$b = b_0b_1b_2b_3...b_s =a_na_{n+1}a_{n+2}...a_r$$ and $$a_i=b_{i-n}$$"
   ]
  },
  {
   "cell_type": "markdown",
   "id": "c347e476",
   "metadata": {},
   "source": [
    "So how many digits do 1, 2, and 3 digit numbers contribute?\n",
    "We can look up above at the sections corresponding to those, and get:"
   ]
  },
  {
   "cell_type": "code",
   "execution_count": 827,
   "id": "68f73426",
   "metadata": {},
   "outputs": [
    {
     "data": {
      "text/plain": [
       "2889"
      ]
     },
     "execution_count": 827,
     "metadata": {},
     "output_type": "execute_result"
    }
   ],
   "source": [
    "9 + 180 + 2700"
   ]
  },
  {
   "cell_type": "markdown",
   "id": "b413ad06",
   "metadata": {},
   "source": [
    "We can double check this with our code by generating the string of integers from the first one digit number to the last 3 digit number, and calculate the length of that."
   ]
  },
  {
   "cell_type": "code",
   "execution_count": 828,
   "id": "ef926a63",
   "metadata": {},
   "outputs": [
    {
     "data": {
      "text/plain": [
       "2889"
      ]
     },
     "execution_count": 828,
     "metadata": {},
     "output_type": "execute_result"
    }
   ],
   "source": [
    "len(number_string(1,999)['string'])"
   ]
  },
  {
   "cell_type": "markdown",
   "id": "3d3f0526",
   "metadata": {},
   "source": [
    "Now we can subtract this number from 3489, to get the digit that we want within the string made up of only 4 digit numbers 1000 to 2021, inclusive."
   ]
  },
  {
   "cell_type": "code",
   "execution_count": 829,
   "id": "786a9330",
   "metadata": {},
   "outputs": [
    {
     "data": {
      "text/plain": [
       "600"
      ]
     },
     "execution_count": 829,
     "metadata": {},
     "output_type": "execute_result"
    }
   ],
   "source": [
    "3489 - 2889"
   ]
  },
  {
   "cell_type": "markdown",
   "id": "8e1d75c2",
   "metadata": {},
   "source": [
    "Note: if this number had been negative, then we would have known that the middle digit of the total string did not lie within the portion of the string made up of 4 digit numbers, and we would have had to find a different method to proceed with.\n",
    "\n",
    "### What is the nth digit of any string of numbers?\n",
    "\n",
    "Lets start with a simpler problem, and ask, what is the 6th digit of this series? Well, to start, we don't need the whole series in order to figure this out, so we can just consider the string of 1000 to 1003. I am going to use python to display this string for us:"
   ]
  },
  {
   "cell_type": "code",
   "execution_count": 830,
   "id": "c0a6a805",
   "metadata": {},
   "outputs": [
    {
     "data": {
      "text/plain": [
       "'1000100110021003'"
      ]
     },
     "execution_count": 830,
     "metadata": {},
     "output_type": "execute_result"
    }
   ],
   "source": [
    "number_string(1000, 1003)['string']"
   ]
  },
  {
   "cell_type": "markdown",
   "id": "ff3ed810",
   "metadata": {},
   "source": [
    "We count the first 1 as the 1st digit, then the following 0 as the second, then the following zero as the 3rd, then finally the last zero in 1000 as the 4th digit. Then starts the integer that we are interested in, because the 6th digit will lie somewhere in the year 1001.\n",
    "\n",
    "We can notice here that we can deduce the year that we care about by using the digit divided by 4. In python, we can use the `math.floor` function to round this down to the nearest integer. In the case of the sixth digit, we use"
   ]
  },
  {
   "cell_type": "code",
   "execution_count": 831,
   "id": "04410ae2",
   "metadata": {},
   "outputs": [
    {
     "data": {
      "text/plain": [
       "1"
      ]
     },
     "execution_count": 831,
     "metadata": {},
     "output_type": "execute_result"
    }
   ],
   "source": [
    "math.floor(6 / 4)"
   ]
  },
  {
   "cell_type": "markdown",
   "id": "a92269df",
   "metadata": {},
   "source": [
    "to find that it is the first year after 1000, that our digit lies in.\n",
    "\n",
    "To find the digit within that year that we care about, we can use modular arithmetic. The modulo function (in python it is `%`), will give us the remainder after division. Thus we can use n % 4 to find the remainder after dividing by 4. This will tell us which digit we care about within the year that we care about.\n",
    "\n",
    "In the example of the sixth digit, we use"
   ]
  },
  {
   "cell_type": "code",
   "execution_count": 832,
   "id": "f033dccd",
   "metadata": {},
   "outputs": [
    {
     "data": {
      "text/plain": [
       "2"
      ]
     },
     "execution_count": 832,
     "metadata": {},
     "output_type": "execute_result"
    }
   ],
   "source": [
    "6 % 4"
   ]
  },
  {
   "cell_type": "markdown",
   "id": "a68218b3",
   "metadata": {},
   "source": [
    "This is tell us that it is the second digit in the year 1001, that is the sixth digit in the string of years 1000 to 1003. Thus, the sixth digit is 0.\n",
    "\n",
    "\n",
    "**Important Note:** the caveat to using this method is that `n % 4` will never equal 4. So how do we get the fourth digit? Well, if we try to look for the fourth digit, we will do"
   ]
  },
  {
   "cell_type": "code",
   "execution_count": 833,
   "id": "bed7d472",
   "metadata": {},
   "outputs": [
    {
     "data": {
      "text/plain": [
       "1"
      ]
     },
     "execution_count": 833,
     "metadata": {},
     "output_type": "execute_result"
    }
   ],
   "source": [
    "math.floor(4 / 4)"
   ]
  },
  {
   "cell_type": "markdown",
   "id": "ca6c9ec6",
   "metadata": {},
   "source": [
    "which should tell us it is the year 1001 that we want, but we can see that"
   ]
  },
  {
   "cell_type": "code",
   "execution_count": 834,
   "id": "c8ea968c",
   "metadata": {},
   "outputs": [
    {
     "data": {
      "text/plain": [
       "0"
      ]
     },
     "execution_count": 834,
     "metadata": {},
     "output_type": "execute_result"
    }
   ],
   "source": [
    "4 % 4"
   ]
  },
  {
   "cell_type": "markdown",
   "id": "1c09a792",
   "metadata": {},
   "source": [
    "We have to interpret this zero as telling us to look at the last digit of the year previous to the one the former equation told us to care about. In this case, the last digit of the year 1000. Thus the fourth digit is 0, which is easily verifiable manually."
   ]
  },
  {
   "cell_type": "markdown",
   "id": "d1a61855",
   "metadata": {},
   "source": [
    "#### Another Example\n",
    "\n",
    "Lets try this again to find the 13th digit.\n",
    "The year that we care about is:"
   ]
  },
  {
   "cell_type": "code",
   "execution_count": 835,
   "id": "22bb5757",
   "metadata": {},
   "outputs": [
    {
     "data": {
      "text/plain": [
       "3"
      ]
     },
     "execution_count": 835,
     "metadata": {},
     "output_type": "execute_result"
    }
   ],
   "source": [
    "math.floor(13 / 4)"
   ]
  },
  {
   "cell_type": "markdown",
   "id": "3ae919a3",
   "metadata": {},
   "source": [
    "years after 1000, which is 1003.\n",
    "\n",
    "The digit within that year is:"
   ]
  },
  {
   "cell_type": "code",
   "execution_count": 836,
   "id": "1967aca0",
   "metadata": {},
   "outputs": [
    {
     "data": {
      "text/plain": [
       "1"
      ]
     },
     "execution_count": 836,
     "metadata": {},
     "output_type": "execute_result"
    }
   ],
   "source": [
    "13 % 4"
   ]
  },
  {
   "cell_type": "markdown",
   "id": "4e29bddd",
   "metadata": {},
   "source": [
    "Thus, the 13th digit is the first digit in 1003, which is 1. We can check this by manually counting out 13 in `1000100110021003`\n",
    "\n",
    "#### Checking indexes in Python\n",
    "\n",
    "An important note about python is that it will start counting strings starting at 0. For example, in the string `abcde`, python interprets the first index as being the second character in the string. As we can see here:"
   ]
  },
  {
   "cell_type": "code",
   "execution_count": 837,
   "id": "b23d741c",
   "metadata": {},
   "outputs": [
    {
     "data": {
      "text/plain": [
       "'b'"
      ]
     },
     "execution_count": 837,
     "metadata": {},
     "output_type": "execute_result"
    }
   ],
   "source": [
    "\"abcde\"[1]"
   ]
  },
  {
   "cell_type": "markdown",
   "id": "c4203ad0",
   "metadata": {},
   "source": [
    " Thus in order to get python to tell us what we think of as the first character in the string, we always have to subtract 1. Here is the expected output, achieved by subtracting 1:"
   ]
  },
  {
   "cell_type": "code",
   "execution_count": 838,
   "id": "e6c1a038",
   "metadata": {},
   "outputs": [
    {
     "data": {
      "text/plain": [
       "'a'"
      ]
     },
     "execution_count": 838,
     "metadata": {},
     "output_type": "execute_result"
    }
   ],
   "source": [
    "\"abcde\"[1-1]"
   ]
  },
  {
   "cell_type": "markdown",
   "id": "bb009679",
   "metadata": {},
   "source": [
    "Thus, to have python check the 13th character in the string of numbers from 1000 to 1003, we have to ask it for the (13 - 1)th character."
   ]
  },
  {
   "cell_type": "code",
   "execution_count": 839,
   "id": "60b715ad",
   "metadata": {},
   "outputs": [
    {
     "data": {
      "text/plain": [
       "'1'"
      ]
     },
     "execution_count": 839,
     "metadata": {},
     "output_type": "execute_result"
    }
   ],
   "source": [
    "number_string(1000, 1003)['string'][13-1]"
   ]
  },
  {
   "cell_type": "markdown",
   "id": "89144d13",
   "metadata": {},
   "source": [
    "### What is the 600th digit of the string made up of numbers 1000 to 2021?\n",
    "\n",
    "Now to answer the real question, all we have to do is use the formulas derived above on `600`\n",
    "\n",
    "The year we care about is"
   ]
  },
  {
   "cell_type": "code",
   "execution_count": 840,
   "id": "3ca1f7c2",
   "metadata": {},
   "outputs": [
    {
     "data": {
      "text/plain": [
       "150"
      ]
     },
     "execution_count": 840,
     "metadata": {},
     "output_type": "execute_result"
    }
   ],
   "source": [
    "math.floor(600 / 4)"
   ]
  },
  {
   "cell_type": "markdown",
   "id": "68ca12c0",
   "metadata": {},
   "source": [
    "years after 1000, which is 1150.\n",
    "\n",
    "The digit we care about within that year is:"
   ]
  },
  {
   "cell_type": "code",
   "execution_count": 841,
   "id": "f5633490",
   "metadata": {},
   "outputs": [
    {
     "data": {
      "text/plain": [
       "0"
      ]
     },
     "execution_count": 841,
     "metadata": {},
     "output_type": "execute_result"
    }
   ],
   "source": [
    "600 % 4"
   ]
  },
  {
   "cell_type": "markdown",
   "id": "4f475012",
   "metadata": {},
   "source": [
    "In accordance with our important note earlier, this 0 tells us that we actually care about the last digit of the year preceeding 1150. Now, by hand we can see that the last digit of the year 1149 is **9**, which is our final answer.\n",
    "\n",
    "### Double Checking with Python\n",
    "\n",
    "We can double check this using python in a number of ways, but lets start by calculating the 600th digit of the string of integers from 1000 to 2021:"
   ]
  },
  {
   "cell_type": "code",
   "execution_count": 842,
   "id": "4c8e6715",
   "metadata": {},
   "outputs": [
    {
     "data": {
      "text/plain": [
       "'9'"
      ]
     },
     "execution_count": 842,
     "metadata": {},
     "output_type": "execute_result"
    }
   ],
   "source": [
    "number_string(1000,2021)[\"string\"][600-1]"
   ]
  },
  {
   "cell_type": "markdown",
   "id": "3d4f0a85",
   "metadata": {},
   "source": [
    "Another way of using python to check our solution is to generate the whole string of 1 to 2021, and then pull the middle digit from that:"
   ]
  },
  {
   "cell_type": "code",
   "execution_count": 843,
   "id": "b32cae41",
   "metadata": {},
   "outputs": [
    {
     "name": "stdout",
     "output_type": "stream",
     "text": [
      "9\n"
     ]
    }
   ],
   "source": [
    "full_string = number_string(1,2021)['string']\n",
    "number_of_digits = len(full_string)\n",
    "middle_digit_index = math.ceil(number_of_digits/2)\n",
    "middle_digit = full_string[middle_digit_index-1]\n",
    "\n",
    "print(middle_digit)"
   ]
  },
  {
   "cell_type": "markdown",
   "id": "92624254",
   "metadata": {},
   "source": [
    "Alternatively, we can totally ignore readability and collapse this code into a single line. Thus,"
   ]
  },
  {
   "cell_type": "markdown",
   "id": "659a4029",
   "metadata": {},
   "source": [
    "## Here is one line of code that can solve the problem\n",
    "\n",
    "*given the python function defined at the start"
   ]
  },
  {
   "cell_type": "code",
   "execution_count": 844,
   "id": "40510ecd",
   "metadata": {},
   "outputs": [
    {
     "data": {
      "text/plain": [
       "'9'"
      ]
     },
     "execution_count": 844,
     "metadata": {},
     "output_type": "execute_result"
    }
   ],
   "source": [
    "number_string(1,2021)['string'][math.ceil(len(number_string(1,2021)['string'])/2)-1]"
   ]
  }
 ],
 "metadata": {
  "kernelspec": {
   "display_name": "Python 3 (ipykernel)",
   "language": "python",
   "name": "python3"
  },
  "language_info": {
   "codemirror_mode": {
    "name": "ipython",
    "version": 3
   },
   "file_extension": ".py",
   "mimetype": "text/x-python",
   "name": "python",
   "nbconvert_exporter": "python",
   "pygments_lexer": "ipython3",
   "version": "3.9.7"
  }
 },
 "nbformat": 4,
 "nbformat_minor": 5
}
